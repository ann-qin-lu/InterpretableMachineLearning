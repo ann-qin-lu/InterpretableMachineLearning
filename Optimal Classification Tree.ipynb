{
 "cells": [
  {
   "cell_type": "code",
   "execution_count": 1,
   "metadata": {},
   "outputs": [
    {
     "name": "stderr",
     "output_type": "stream",
     "text": [
      "\u001b[1m\u001b[36mINFO: \u001b[39m\u001b[22m\u001b[36mPrecompiling module JuMP.\n",
      "\u001b[39m\u001b[1m\u001b[36mINFO: \u001b[39m\u001b[22m\u001b[36mPrecompiling module Gurobi.\n",
      "\u001b[39m"
     ]
    }
   ],
   "source": [
    "using JuMP, Gurobi"
   ]
  },
  {
   "cell_type": "markdown",
   "metadata": {},
   "source": [
    "### Create th OCT in the paper with a toy dataset"
   ]
  },
  {
   "cell_type": "code",
   "execution_count": 160,
   "metadata": {},
   "outputs": [],
   "source": [
    "# generate XOR-like data\n",
    "function f(x1::Float64, x2::Float64)\n",
    "    if (x1 <= 0.5 && x2 <= 0.5) || (x1 > 0.5 && x2 > 0.5)\n",
    "        return 0\n",
    "    end\n",
    "    return 1     \n",
    "end\n",
    "\n",
    "K = 2  # number of classes\n",
    "p = 2  # number of features\n",
    "n = 10  # number of data points\n",
    "x = rand(n, p)\n",
    "y = diag([f(x1, x2) for x1 = x[:, 1], x2 = x[:, 2]])\n",
    "Y = reshape(vcat(-y*2+1, y*2-1), (n, p));"
   ]
  },
  {
   "cell_type": "code",
   "execution_count": 162,
   "metadata": {},
   "outputs": [
    {
     "data": {
      "text/plain": [
       "10×2 Array{Int64,2}:\n",
       " -1   1\n",
       "  1  -1\n",
       " -1   1\n",
       "  1  -1\n",
       " -1   1\n",
       " -1   1\n",
       "  1  -1\n",
       "  1  -1\n",
       " -1   1\n",
       " -1   1"
      ]
     },
     "execution_count": 162,
     "metadata": {},
     "output_type": "execute_result"
    }
   ],
   "source": [
    "Y"
   ]
  },
  {
   "cell_type": "code",
   "execution_count": 163,
   "metadata": {},
   "outputs": [],
   "source": [
    "# find epsilon, needed in equation (13)\n",
    "epsilon = Float64[]\n",
    "\n",
    "for j in 1:p\n",
    "    min_j = typemax(Int32)\n",
    "    for i in 1:n-1\n",
    "        diff = abs(x[i, j] - x[i+1, j])\n",
    "        if diff < min_j\n",
    "            min_j = diff\n",
    "        end\n",
    "    end\n",
    "    append!(epsilon, min_j)\n",
    "end"
   ]
  },
  {
   "cell_type": "code",
   "execution_count": 164,
   "metadata": {},
   "outputs": [
    {
     "data": {
      "text/plain": [
       "get_ancestors (generic function with 1 method)"
      ]
     },
     "execution_count": 164,
     "metadata": {},
     "output_type": "execute_result"
    }
   ],
   "source": [
    "# find left and right ancestors\n",
    "function get_ancestors(t)\n",
    "    current_node = t\n",
    "    Al = Int[]\n",
    "    Ar = Int[]\n",
    "    \n",
    "    while current_node != 1\n",
    "        parent = convert(Int, floor(current_node/2))\n",
    "        if current_node % 2 == 0\n",
    "            append!(Al, parent)\n",
    "        else\n",
    "            append!(Ar, parent)\n",
    "        end\n",
    "        current_node = parent\n",
    "    end \n",
    "    \n",
    "    return Al, Ar\n",
    "end"
   ]
  },
  {
   "cell_type": "code",
   "execution_count": 174,
   "metadata": {},
   "outputs": [],
   "source": [
    "# set up model\n",
    "m = Model(solver=GurobiSolver())\n",
    "\n",
    "# parameters \n",
    "D = 2  # depth\n",
    "N_min = 1  # min number of data points in each leaf\n",
    "alpha = 0  # complexity penalty weight\n",
    "\n",
    "T = 2^(D+1)-1  # number of nodes in the tree\n",
    "Tb = convert(Int, floor(T/2))  # number of branch nodes\n",
    "Tl = T - Tb  # number of leaf nodes\n",
    "\n",
    "# variables\n",
    "@variable(m, a[1:p, 1:Tb], Bin)  # vector a for each branch node\n",
    "@variable(m, b[1:Tb])  # split value b\n",
    "@variable(m, d[1:Tb], Bin)  # d indicates if a branch node applies split\n",
    "@variable(m, z[1:n, Tb+1:T], Bin)  # z indicates if xi is in leaf node t\n",
    "@variable(m, l[Tb+1:T], Bin)  # l indicates if leaf node t contains any points\n",
    "@variable(m, c[1:K, Tb+1:T], Bin)  # ???\n",
    "@variable(m, Nt[Tb+1:T])  # total number of points in leaf node t\n",
    "@variable(m, Nkt[1:K, Tb+1:T])  # total number of points of label k in leaf node t\n",
    "@variable(m, L[Tb+1:T])  # loss at each leaf node\n",
    "\n",
    "# constraints\n",
    "@constraint(m, [t = 1:Tb], sum(a[:, t]) == d[t])  # equation (2)\n",
    "@constraint(m, [t = 1:Tb], b[t] <= d[t])  # equation (3)\n",
    "@constraint(m, [t = 1:Tb], b[t] >= 0)  # equation (3)\n",
    "@constraint(m, [t = 2:Tb], d[t] <= d[convert(Int, floor(t/2))])  # equation (5)\n",
    "@constraint(m, [i = 1:n, t = Tb + 1:T], z[i, t] <= l[t])  # equation (6)\n",
    "@constraint(m, [t = Tb+1:T], sum(z[:, t]) >= N_min*l[t])  # equation (7)\n",
    "@constraint(m, [i = 1:n], sum(z[i, :]) == 1)  # equation (8)\n",
    "\n",
    "# equation (13), (14)\n",
    "for t in Tb+1:T\n",
    "    Al, Ar = get_ancestors(t)    \n",
    "    for s in Ar, i in 1:n\n",
    "        @constraint(m, x[i, :]'*a[:, s]-b[s]-z[i, t]+1 >= 0)  # equation (14)\n",
    "    end\n",
    "    for s in Al, i in 1:n\n",
    "        @constraint(m, (x[i, :]+epsilon)'*a[:, s] <= b[s]+(1+maximum(epsilon))*(1-z[i, t]))  # equation (13)\n",
    "    end\n",
    "end\n",
    "\n",
    "@constraint(m, [k = 1:K, t = Tb+1:T], Nkt[k, t] == 0.5*sum((1+Y[:, k])'*z[:, t]))  # equation (15)\n",
    "@constraint(m, [t = Tb+1:T], Nt[t] == sum(z[:, t]))  # equation (16)\n",
    "@constraint(m, [t = Tb+1:T], sum(c[:, t]) == l[t])\n",
    "@constraint(m, [t = Tb+1:T], L[t] >= 0)  # equation (22)\n",
    "@constraint(m, [k = 1:K, t = Tb+1:T], L[t] >= Nt[t]-Nkt[k, t]-n*(1-c[k, t]))  #equation (20)\n",
    "@constraint(m, [k = 1:K, t = Tb+1:T], L[t] <= Nt[t]-Nkt[k, t]+n*c[k, t])\n",
    "\n",
    "# set up objective\n",
    "@objective(m, Min, sum(L)+alpha*sum(d));"
   ]
  },
  {
   "cell_type": "code",
   "execution_count": 175,
   "metadata": {},
   "outputs": [],
   "source": [
    "# print the problem\n",
    "#print(m)"
   ]
  },
  {
   "cell_type": "code",
   "execution_count": 177,
   "metadata": {},
   "outputs": [
    {
     "name": "stdout",
     "output_type": "stream",
     "text": [
      "Optimize a model with 181 rows, 80 columns and 678 nonzeros\n",
      "Variable types: 19 continuous, 61 integer (61 binary)\n",
      "Coefficient statistics:\n",
      "  Matrix range     [4e-02, 1e+01]\n",
      "  Objective range  [1e+00, 1e+00]\n",
      "  Bounds range     [1e+00, 1e+00]\n",
      "  RHS range        [1e+00, 1e+01]\n",
      "\n",
      "Loaded MIP start with objective 0\n",
      "MIP start did not produce a new incumbent solution\n",
      "\n",
      "Presolve removed 9 rows and 2 columns\n",
      "Presolve time: 0.00s\n",
      "Presolved: 172 rows, 78 columns, 689 nonzeros\n",
      "Variable types: 3 continuous, 75 integer (59 binary)\n",
      "\n",
      "Explored 0 nodes (0 simplex iterations) in 0.00 seconds\n",
      "Thread count was 4 (of 4 available processors)\n",
      "\n",
      "Solution count 1: 0 \n",
      "\n",
      "Optimal solution found (tolerance 1.00e-04)\n",
      "Best objective 0.000000000000e+00, best bound 0.000000000000e+00, gap 0.0000%\n",
      "Objective value: 0.0\n",
      "[0.0, 0.0, 0.0]\n"
     ]
    }
   ],
   "source": [
    "status = solve(m)\n",
    "println(\"Objective value: \", getobjectivevalue(m))\n",
    "println(getvalue(b))"
   ]
  },
  {
   "cell_type": "code",
   "execution_count": null,
   "metadata": {
    "collapsed": true
   },
   "outputs": [],
   "source": []
  }
 ],
 "metadata": {
  "kernelspec": {
   "display_name": "Julia 0.6.0",
   "language": "julia",
   "name": "julia-0.6"
  },
  "language_info": {
   "file_extension": ".jl",
   "mimetype": "application/julia",
   "name": "julia",
   "version": "0.6.0"
  }
 },
 "nbformat": 4,
 "nbformat_minor": 2
}
