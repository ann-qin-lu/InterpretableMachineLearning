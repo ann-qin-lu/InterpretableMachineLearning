{
 "cells": [
  {
   "cell_type": "code",
   "execution_count": 1,
   "metadata": {},
   "outputs": [
    {
     "name": "stderr",
     "output_type": "stream",
     "text": [
      "\u001b[1m\u001b[36mINFO: \u001b[39m\u001b[22m\u001b[36mPrecompiling module JuMP.\n",
      "\u001b[39m\u001b[1m\u001b[36mINFO: \u001b[39m\u001b[22m\u001b[36mPrecompiling module Gurobi.\n",
      "\u001b[39m"
     ]
    }
   ],
   "source": [
    "using JuMP, Gurobi"
   ]
  },
  {
   "cell_type": "markdown",
   "metadata": {},
   "source": [
    "### Create th OCT in the paper with a toy dataset"
   ]
  },
  {
   "cell_type": "code",
   "execution_count": 61,
   "metadata": {},
   "outputs": [],
   "source": [
    "# generate XOR-like data\n",
    "function f(x1::Float64, x2::Float64)\n",
    "    if (x1 <= 0.5 && x2 <= 0.5) || (x1 > 0.5 && x2 > 0.5)\n",
    "        return 0\n",
    "    end\n",
    "    return 1     \n",
    "end\n",
    "\n",
    "k = 2  # number of classes\n",
    "p = 2  # number of features\n",
    "n = 10  # number of data points\n",
    "x = rand(n, p)\n",
    "y = diag([f(x1, x2) for x1 = x[:, 1], x2 = x[:, 2]])\n",
    "Y = reshape(vcat(-y * 2 + 1, y * 2 - 1), (n, p));"
   ]
  },
  {
   "cell_type": "code",
   "execution_count": 120,
   "metadata": {},
   "outputs": [
    {
     "data": {
      "text/plain": [
       "get_ancestors (generic function with 1 method)"
      ]
     },
     "execution_count": 120,
     "metadata": {},
     "output_type": "execute_result"
    }
   ],
   "source": [
    "# find left and right ancestors\n",
    "function get_ancestors(t)\n",
    "    current_node = t\n",
    "    Al = Int[]\n",
    "    Ar = Int[]\n",
    "    \n",
    "    while current_node != 1\n",
    "        parent = convert(Int, floor(current_node/2))\n",
    "        if current_node % 2 == 0\n",
    "            append!(Al, parent)\n",
    "        else\n",
    "            append!(Ar, parent)\n",
    "        end\n",
    "        current_node = parent\n",
    "    end \n",
    "    \n",
    "    return Al, Ar\n",
    "end"
   ]
  },
  {
   "cell_type": "code",
   "execution_count": 129,
   "metadata": {},
   "outputs": [],
   "source": [
    "# set up model\n",
    "m = Model(solver=GurobiSolver())\n",
    "\n",
    "# parameters \n",
    "D = 2  # depth\n",
    "N_min = 1  # min number of data points in each leaf\n",
    "alpha = 1  # complexity penalty weight\n",
    "\n",
    "T = 2 ^ (D + 1) - 1  # number of nodes in the tree\n",
    "Tb = convert(Int, floor(T/2))  # number of branch nodes\n",
    "Tl = T - Tb  # number of leaf nodes\n",
    "\n",
    "# variables\n",
    "@variable(m, a[1:p, 1:Tb], Bin)  # vector a for each branch node\n",
    "@variable(m, b[1:Tb])  # split value b\n",
    "@variable(m, d[1:Tb], Bin)  # d indicates if a branch node applies split\n",
    "@variable(m, z[1:n, Tb + 1:T], Bin)  # z indicates if xi is in leaf node t\n",
    "@variable(m, l[Tb + 1:T], Bin)  # l indicates if leaf node t contains any points\n",
    "@variable(m, c[1:k, Tb + 1:T], Bin)  # ???\n",
    "\n",
    "# constraints\n",
    "@constraint(m, [t = 1:Tb], sum(a[:, t]) == d[t])  # equation (2)\n",
    "@constraint(m, [t = 1:Tb], b[t] <= d[t])  # equation (3)\n",
    "@constraint(m, [t = 1:Tb], b[t] >= 0)  # equation (3)\n",
    "@constraint(m, [t = 2:Tb], d[t] <= d[convert(Int, floor(t/2))])  # equation (5)\n",
    "@constraint(m, [i = 1:n, t = Tb + 1:T], z[i, t] <= l[t])  # equation (6)\n",
    "@constraint(m, [t = Tb + 1:T], sum(z[:, t]) >= N_min * l[t])  # equation (7)\n",
    "@constraint(m, [i = 1:n], sum(z[i, :]) == 1)  # equation (8)\n",
    "\n",
    "# equation (13), (14)\n",
    "for t in Tb + 1:T\n",
    "    Al, Ar = get_ancestors(t)\n",
    "    # println(Al, Ar)\n",
    "    \n",
    "    for s in Ar, i in 1:n\n",
    "        @constraint(m, x[i, :]' * a[:,  s] - b[s] - z[i, t] + 1 >= 0)\n",
    "    end\n",
    "    \n",
    "end"
   ]
  },
  {
   "cell_type": "code",
   "execution_count": null,
   "metadata": {
    "collapsed": true
   },
   "outputs": [],
   "source": []
  }
 ],
 "metadata": {
  "kernelspec": {
   "display_name": "Julia 0.6.0",
   "language": "julia",
   "name": "julia-0.6"
  },
  "language_info": {
   "file_extension": ".jl",
   "mimetype": "application/julia",
   "name": "julia",
   "version": "0.6.0"
  }
 },
 "nbformat": 4,
 "nbformat_minor": 2
}
