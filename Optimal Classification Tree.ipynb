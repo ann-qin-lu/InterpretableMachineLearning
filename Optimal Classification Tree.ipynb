{
 "cells": [
  {
   "cell_type": "code",
   "execution_count": 1,
   "metadata": {},
   "outputs": [
    {
     "name": "stderr",
     "output_type": "stream",
     "text": [
      "\u001b[1m\u001b[36mINFO: \u001b[39m\u001b[22m\u001b[36mPrecompiling module JuMP.\n",
      "\u001b[39m\u001b[1m\u001b[36mINFO: \u001b[39m\u001b[22m\u001b[36mPrecompiling module Gurobi.\n",
      "\u001b[39m"
     ]
    }
   ],
   "source": [
    "using JuMP, Gurobi"
   ]
  },
  {
   "cell_type": "markdown",
   "metadata": {},
   "source": [
    "### Create th OCT in the paper with a toy dataset"
   ]
  },
  {
   "cell_type": "code",
   "execution_count": 61,
   "metadata": {},
   "outputs": [],
   "source": [
    "# generate XOR-like data\n",
    "function f(x1::Float64, x2::Float64)\n",
    "    if (x1 <= 0.5 && x2 <= 0.5) || (x1 > 0.5 && x2 > 0.5)\n",
    "        return 0\n",
    "    end\n",
    "    return 1     \n",
    "end\n",
    "\n",
    "k = 2  # number of classes\n",
    "p = 2  # number of features\n",
    "n = 10  # number of data points\n",
    "x = rand(n, p)\n",
    "y = diag([f(x1, x2) for x1 = x[:, 1], x2 = x[:, 2]])\n",
    "Y = reshape(vcat(-y * 2 + 1, y * 2 - 1), (n, p));"
   ]
  },
  {
   "cell_type": "code",
   "execution_count": 97,
   "metadata": {},
   "outputs": [
    {
     "data": {
      "text/plain": [
       "10-element Array{JuMP.ConstraintRef,1}:\n",
       " z[1,4] + z[1,5] + z[1,6] + z[1,7] = 1    \n",
       " z[2,4] + z[2,5] + z[2,6] + z[2,7] = 1    \n",
       " z[3,4] + z[3,5] + z[3,6] + z[3,7] = 1    \n",
       " z[4,4] + z[4,5] + z[4,6] + z[4,7] = 1    \n",
       " z[5,4] + z[5,5] + z[5,6] + z[5,7] = 1    \n",
       " z[6,4] + z[6,5] + z[6,6] + z[6,7] = 1    \n",
       " z[7,4] + z[7,5] + z[7,6] + z[7,7] = 1    \n",
       " z[8,4] + z[8,5] + z[8,6] + z[8,7] = 1    \n",
       " z[9,4] + z[9,5] + z[9,6] + z[9,7] = 1    \n",
       " z[10,4] + z[10,5] + z[10,6] + z[10,7] = 1"
      ]
     },
     "execution_count": 97,
     "metadata": {},
     "output_type": "execute_result"
    }
   ],
   "source": [
    "# set up model\n",
    "m = Model(solver=GurobiSolver())\n",
    "\n",
    "# parameters \n",
    "D = 2  # depth\n",
    "N_min = 1  # min number of data points in each leaf\n",
    "alpha = 1  # complexity penalty weight\n",
    "\n",
    "T = 2 ^ (D + 1) - 1  # number of nodes in the tree\n",
    "Tb = convert(Int, floor(T/2))  # number of branch nodes\n",
    "Tl = T - Tb  # number of leaf nodes\n",
    "\n",
    "# variables\n",
    "@variable(m, a[1:p, 1:Tb], Bin)  # vector a for each branch node\n",
    "@variable(m, b[1:Tb])  # split value b\n",
    "@variable(m, d[1:Tb], Bin)  # d indicates if a branch node applies split\n",
    "@variable(m, z[1:n, Tb + 1:T], Bin)  # z indicates if xi is in leaf node t\n",
    "@variable(m, l[Tb + 1:T], Bin)  # l indicates if leaf node t contains any points\n",
    "@variable(m, c[1:k, Tb + 1:T], Bin)  # ???\n",
    "\n",
    "# constraints\n",
    "@constraint(m, [t = 1:Tb], sum(a[:, t]) == d[t])  # equation (2)\n",
    "@constraint(m, [t = 1:Tb], b[t] <= d[t])  # equation (3)\n",
    "@constraint(m, [t = 1:Tb], b[t] >= 0)  # equation (3)\n",
    "@constraint(m, [t = 2:Tb], d[t] <= d[convert(Int, floor(t/2))])  # equation (5)\n",
    "@constraint(m, [i = 1:n, t = Tb + 1:T], z[i, t] <= l[t])  # equation (6)\n",
    "@constraint(m, [t = Tb + 1:T], sum(z[:, t]) >= N_min * l[t])  # equation (7)\n",
    "@constraint(m, [i = 1:n], sum(z[i, :]) == 1)  # equation (8)"
   ]
  },
  {
   "cell_type": "code",
   "execution_count": 96,
   "metadata": {
    "scrolled": true
   },
   "outputs": [
    {
     "data": {
      "text/latex": [
       "$$ \\begin{alignat*}{1}\\min\\quad & 0\\\\\n",
       "\\text{Subject to} \\quad & a_{1,1} + a_{2,1} - d_{1} = 0\\\\\n",
       " & a_{1,2} + a_{2,2} - d_{2} = 0\\\\\n",
       " & a_{1,3} + a_{2,3} - d_{3} = 0\\\\\n",
       " & b_{1} - d_{1} \\leq 0\\\\\n",
       " & b_{2} - d_{2} \\leq 0\\\\\n",
       " & b_{3} - d_{3} \\leq 0\\\\\n",
       " & b_{1} \\geq 0\\\\\n",
       " & b_{2} \\geq 0\\\\\n",
       " & b_{3} \\geq 0\\\\\n",
       " & d_{2} - d_{1} \\leq 0\\\\\n",
       " & d_{3} - d_{1} \\leq 0\\\\\n",
       " & z_{1,4} - l_{4} \\leq 0\\\\\n",
       " & z_{1,5} - l_{5} \\leq 0\\\\\n",
       " & z_{1,6} - l_{6} \\leq 0\\\\\n",
       " & z_{1,7} - l_{7} \\leq 0\\\\\n",
       " & z_{2,4} - l_{4} \\leq 0\\\\\n",
       " & z_{2,5} - l_{5} \\leq 0\\\\\n",
       " & z_{2,6} - l_{6} \\leq 0\\\\\n",
       " & z_{2,7} - l_{7} \\leq 0\\\\\n",
       " & z_{3,4} - l_{4} \\leq 0\\\\\n",
       " & z_{3,5} - l_{5} \\leq 0\\\\\n",
       " & z_{3,6} - l_{6} \\leq 0\\\\\n",
       " & z_{3,7} - l_{7} \\leq 0\\\\\n",
       " & z_{4,4} - l_{4} \\leq 0\\\\\n",
       " & z_{4,5} - l_{5} \\leq 0\\\\\n",
       " & z_{4,6} - l_{6} \\leq 0\\\\\n",
       " & z_{4,7} - l_{7} \\leq 0\\\\\n",
       " & z_{5,4} - l_{4} \\leq 0\\\\\n",
       " & z_{5,5} - l_{5} \\leq 0\\\\\n",
       " & z_{5,6} - l_{6} \\leq 0\\\\\n",
       " & z_{5,7} - l_{7} \\leq 0\\\\\n",
       " & z_{6,4} - l_{4} \\leq 0\\\\\n",
       " & z_{6,5} - l_{5} \\leq 0\\\\\n",
       " & z_{6,6} - l_{6} \\leq 0\\\\\n",
       " & z_{6,7} - l_{7} \\leq 0\\\\\n",
       " & z_{7,4} - l_{4} \\leq 0\\\\\n",
       " & z_{7,5} - l_{5} \\leq 0\\\\\n",
       " & z_{7,6} - l_{6} \\leq 0\\\\\n",
       " & z_{7,7} - l_{7} \\leq 0\\\\\n",
       " & z_{8,4} - l_{4} \\leq 0\\\\\n",
       " & z_{8,5} - l_{5} \\leq 0\\\\\n",
       " & z_{8,6} - l_{6} \\leq 0\\\\\n",
       " & z_{8,7} - l_{7} \\leq 0\\\\\n",
       " & z_{9,4} - l_{4} \\leq 0\\\\\n",
       " & z_{9,5} - l_{5} \\leq 0\\\\\n",
       " & z_{9,6} - l_{6} \\leq 0\\\\\n",
       " & z_{9,7} - l_{7} \\leq 0\\\\\n",
       " & z_{10,4} - l_{4} \\leq 0\\\\\n",
       " & z_{10,5} - l_{5} \\leq 0\\\\\n",
       " & z_{10,6} - l_{6} \\leq 0\\\\\n",
       " & z_{10,7} - l_{7} \\leq 0\\\\\n",
       " & z_{1,4} + z_{2,4} + z_{3,4} + z_{4,4} + z_{5,4} + z_{6,4} + z_{7,4} + z_{8,4} + z_{9,4} + z_{10,4} - l_{4} \\geq 0\\\\\n",
       " & z_{1,5} + z_{2,5} + z_{3,5} + z_{4,5} + z_{5,5} + z_{6,5} + z_{7,5} + z_{8,5} + z_{9,5} + z_{10,5} - l_{5} \\geq 0\\\\\n",
       " & z_{1,6} + z_{2,6} + z_{3,6} + z_{4,6} + z_{5,6} + z_{6,6} + z_{7,6} + z_{8,6} + z_{9,6} + z_{10,6} - l_{6} \\geq 0\\\\\n",
       " & z_{1,7} + z_{2,7} + z_{3,7} + z_{4,7} + z_{5,7} + z_{6,7} + z_{7,7} + z_{8,7} + z_{9,7} + z_{10,7} - l_{7} \\geq 0\\\\\n",
       " & a_{i,j} \\in \\{0,1\\} \\quad\\forall i \\in \\{1,2\\}, j \\in \\{1,2,3\\}\\\\\n",
       " & b_{i} \\quad\\forall i \\in \\{1,2,3\\}\\\\\n",
       " & d_{i} \\in \\{0,1\\} \\quad\\forall i \\in \\{1,2,3\\}\\\\\n",
       " & z_{i,j} \\in \\{0,1\\} \\quad\\forall i \\in \\{1,2,\\dots,9,10\\}, j \\in \\{4,5,6,7\\}\\\\\n",
       " & l_{i} \\in \\{0,1\\} \\quad\\forall i \\in \\{4,5,6,7\\}\\\\\n",
       " & c_{i,j} \\in \\{0,1\\} \\quad\\forall i \\in \\{1,2\\}, j \\in \\{4,5,6,7\\}\\\\\n",
       "\\end{alignat*}\n",
       " $$"
      ],
      "text/plain": [
       "Feasibility problem with:\n",
       " * 55 linear constraints\n",
       " * 64 variables: 61 binary\n",
       "Solver is Gurobi"
      ]
     },
     "execution_count": 96,
     "metadata": {},
     "output_type": "execute_result"
    }
   ],
   "source": [
    "m"
   ]
  },
  {
   "cell_type": "code",
   "execution_count": null,
   "metadata": {
    "collapsed": true
   },
   "outputs": [],
   "source": []
  }
 ],
 "metadata": {
  "kernelspec": {
   "display_name": "Julia 0.6.0",
   "language": "julia",
   "name": "julia-0.6"
  },
  "language_info": {
   "file_extension": ".jl",
   "mimetype": "application/julia",
   "name": "julia",
   "version": "0.6.0"
  }
 },
 "nbformat": 4,
 "nbformat_minor": 2
}
